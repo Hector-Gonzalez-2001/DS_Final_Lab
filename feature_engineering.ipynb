{
 "cells": [
  {
   "cell_type": "code",
   "execution_count": 89,
   "metadata": {},
   "outputs": [],
   "source": [
    "# Import our libraries\n",
    "import pandas as pd"
   ]
  },
  {
   "cell_type": "code",
   "execution_count": 90,
   "metadata": {},
   "outputs": [
    {
     "name": "stdout",
     "output_type": "stream",
     "text": [
      "Index(['weight_class', 'f1_reach', 'f1_sapm', 'f1_slpm', 'f1_stance',\n",
      "       'f1_stk_acc', 'f1_stk_def', 'f1_sub_avg', 'f1_td_acc', 'f1_td_avg',\n",
      "       'f1_td_def', 'f1_weight', 'f2_reach', 'f2_sapm', 'f2_slpm', 'f2_stance',\n",
      "       'f2_stk_acc', 'f2_stk_def', 'f2_sub_avg', 'f2_td_acc', 'f2_td_avg',\n",
      "       'f2_td_def', 'f2_weight', 'f1_wins', 'f1_losses', 'f1_draws', 'f2_wins',\n",
      "       'f2_losses', 'f2_draws', 'f1_age', 'f2_age', 'f1_height', 'f2_height'],\n",
      "      dtype='object')\n"
     ]
    }
   ],
   "source": [
    "# Load in our processed data\n",
    "data = pd.read_csv(\"data/processed/processed_fights.csv\")\n",
    "print(data.columns)"
   ]
  },
  {
   "cell_type": "code",
   "execution_count": 91,
   "metadata": {},
   "outputs": [],
   "source": [
    "# Taking our weight & draws (2nd permutation)\n",
    "data_2 = data.drop(['weight_class', 'f1_weight', 'f1_draws', 'f2_weight', 'f2_draws'], axis=1)\n",
    "data_2.to_csv('data/permutations/drop_weights_draws_2.csv', index=False)"
   ]
  },
  {
   "cell_type": "code",
   "execution_count": 92,
   "metadata": {},
   "outputs": [],
   "source": [
    "# Taking out %'s (3rd permutation)\n",
    "data_3 = data.drop(['f1_stk_acc', 'f2_stk_acc', 'f1_stk_def', 'f2_stk_def', 'f1_td_acc', 'f2_td_acc', 'f1_td_def', 'f2_td_def'], axis=1)\n",
    "data_3.to_csv('data/permutations/drop_percentages_3.csv', index=False)"
   ]
  },
  {
   "cell_type": "code",
   "execution_count": 93,
   "metadata": {},
   "outputs": [],
   "source": [
    "# Taking out rates (4th permutation)\n",
    "data_4 = data.drop(['f1_slpm', 'f2_slpm', 'f1_sapm', 'f2_sapm', 'f1_td_avg', 'f2_td_avg', 'f1_sub_avg', 'f2_sub_avg'], axis=1)\n",
    "data_4.to_csv('data/permutations/drop_rates_4.csv', index=False)"
   ]
  },
  {
   "cell_type": "code",
   "execution_count": 94,
   "metadata": {},
   "outputs": [],
   "source": [
    "# Taking our weight, height, draws (5th permutation)\n",
    "data_5 = data.drop(['weight_class', 'f1_weight', 'f2_weight', 'f1_height', 'f2_height', 'f1_draws', 'f2_draws'], axis=1)\n",
    "data_5.to_csv('data/permutations/drop_heights_weights_draws_5.csv', index=False)"
   ]
  },
  {
   "cell_type": "code",
   "execution_count": 95,
   "metadata": {},
   "outputs": [],
   "source": [
    "# Add win rate (6th permutation)\n",
    "\n",
    "data_6 = data.copy()\n",
    "data_6['f1_win_rate'] = 0\n",
    "data_6['f2_win_rate'] = 0\n",
    "\n",
    "for index, row in data_6.iterrows():\n",
    "\n",
    "    f1_total_fights = row['f1_wins'] + row['f1_losses'] + row['f1_draws']\n",
    "    f1_win_rate = row['f1_wins'] / f1_total_fights\n",
    "\n",
    "    f2_total_fights = row['f2_wins'] + row['f2_losses'] + row['f2_draws']\n",
    "    f2_win_rate = row['f2_wins'] / f2_total_fights\n",
    "\n",
    "    row['f1_win_rate'] = f1_win_rate\n",
    "    row['f2_win_rate'] = f2_win_rate\n",
    "\n",
    "    data_6.loc[index] = row\n",
    "\n",
    "data_6.to_csv('data/permutations/add_win_rate_6.csv', index=False)"
   ]
  },
  {
   "cell_type": "code",
   "execution_count": 96,
   "metadata": {},
   "outputs": [],
   "source": [
    "# All static stats & only striking\n",
    "\n",
    "data_7 = data.drop(['f1_sub_avg', 'f2_sub_avg', 'f1_td_acc', 'f2_td_acc', 'f1_td_acc', 'f2_td_acc', 'f1_td_avg', 'f2_td_avg'], axis=1)\n",
    "data_7.to_csv('data/permutations/only_striking_7.csv', index=False)"
   ]
  },
  {
   "cell_type": "code",
   "execution_count": 97,
   "metadata": {},
   "outputs": [],
   "source": [
    "# All static stats & only grappling\n",
    "\n",
    "data_8 = data.drop(['f1_slpm', 'f2_slpm', 'f1_sapm', 'f2_sapm', 'f1_stk_acc', 'f2_stk_acc', 'f1_stk_def', 'f2_stk_def'], axis=1)\n",
    "data_8.to_csv('data/permutations/only_grappling_8.csv', index=False)"
   ]
  },
  {
   "cell_type": "code",
   "execution_count": 98,
   "metadata": {},
   "outputs": [
    {
     "name": "stdout",
     "output_type": "stream",
     "text": [
      "Index(['weight_class', 'f1_reach', 'f1_sapm', 'f1_slpm', 'f1_stance',\n",
      "       'f1_stk_acc', 'f1_stk_def', 'f1_sub_avg', 'f1_td_acc', 'f1_td_avg',\n",
      "       'f1_td_def', 'f1_weight', 'f2_reach', 'f2_sapm', 'f2_slpm', 'f2_stance',\n",
      "       'f2_stk_acc', 'f2_stk_def', 'f2_sub_avg', 'f2_td_acc', 'f2_td_avg',\n",
      "       'f2_td_def', 'f2_weight', 'f1_wins', 'f1_losses', 'f1_draws', 'f2_wins',\n",
      "       'f2_losses', 'f2_draws', 'f1_age', 'f2_age', 'f1_height', 'f2_height',\n",
      "       'slpm_diff', 'sapm_diff', 'stk_atk_diff', 'stk_def_diff'],\n",
      "      dtype='object')\n"
     ]
    }
   ],
   "source": [
    "# All static stats & f1 - f2 rates\n",
    "\n",
    "data_9 = data.copy()\n",
    "\n",
    "data_9['slpm_diff'] = data_9['f1_slpm'] - data_9['f2_slpm']\n",
    "data_9['sapm_diff'] = data_9['f1_sapm'] - data_9['f2_sapm']\n",
    "data_9['stk_atk_diff'] = data_9['f1_stk_acc'] - data_9['f2_stk_acc']\n",
    "data_9['stk_def_diff'] = data_9['f1_stk_def'] - data_9['f2_stk_def']\n",
    "\n",
    "print(data_9.columns)\n",
    "\n",
    "data_9 = data_9.drop(['f1_slpm', 'f2_slpm', 'f1_sapm', 'f2_sapm', 'f1_td_avg', 'f2_td_avg', 'f1_sub_avg', 'f2_sub_avg'], axis=1)\n",
    "data_9.to_csv('data/permutations/minus_rates_9.csv', index=False)\n"
   ]
  },
  {
   "cell_type": "code",
   "execution_count": 99,
   "metadata": {},
   "outputs": [],
   "source": [
    "# All static stats & f1 - f2 %'s\n",
    "\n",
    "data_10 = data.copy()\n",
    "\n",
    "data_10['stk_acc_diff'] = data_10['f1_stk_acc'] - data_10['f2_stk_acc']\n",
    "data_10['stk_def_diff'] = data_10['f1_stk_def'] - data_10['f2_stk_def']\n",
    "data_10['td_acc_diff'] = data_10['f1_td_acc'] - data_10['f2_td_acc']\n",
    "data_10['td_def_diff'] = data_10['f1_td_def'] - data_10['f2_td_def']\n",
    "\n",
    "data_10 = data_10.drop(['f1_stk_acc', 'f2_stk_acc', 'f1_stk_def', 'f2_stk_def', 'f1_td_acc', 'f2_td_acc', 'f1_td_def', 'f2_td_def'], axis=1)\n",
    "data_10.to_csv('data/permutations/minus_percentages_10.csv', index=False)"
   ]
  },
  {
   "cell_type": "code",
   "execution_count": 100,
   "metadata": {},
   "outputs": [],
   "source": [
    "# All static stats & f1 - f2 all\n",
    "\n",
    "data_11 = data.copy()\n",
    "\n",
    "data_11['slpm_diff'] = data_11['f1_slpm'] - data_11['f2_slpm']\n",
    "data_11['sapm_diff'] = data_11['f1_sapm'] - data_11['f2_sapm']\n",
    "data_11['stk_atk_diff'] = data_11['f1_stk_acc'] - data_11['f2_stk_acc']\n",
    "data_11['stk_def_diff'] = data_11['f1_stk_def'] - data_11['f2_stk_def']\n",
    "data_11['stk_acc_diff'] = data_11['f1_stk_acc'] - data_11['f2_stk_acc']\n",
    "data_11['stk_def_diff'] = data_11['f1_stk_def'] - data_11['f2_stk_def']\n",
    "data_11['td_acc_diff'] = data_11['f1_td_acc'] - data_11['f2_td_acc']\n",
    "data_11['td_def_diff'] = data_11['f1_td_def'] - data_11['f2_td_def']\n",
    "\n",
    "data_11 = data_11.drop(['f1_stk_acc', 'f2_stk_acc', 'f1_stk_def', 'f2_stk_def', 'f1_td_acc', 'f2_td_acc', 'f1_td_def', 'f2_td_def', 'f1_slpm', 'f2_slpm', 'f1_sapm', 'f2_sapm', 'f1_td_avg', 'f2_td_avg', 'f1_sub_avg', 'f2_sub_avg'], axis=1)\n",
    "data_11.to_csv('data/permutations/minus_all_11.csv', index=False)\n"
   ]
  },
  {
   "cell_type": "code",
   "execution_count": 101,
   "metadata": {},
   "outputs": [],
   "source": [
    "# Add win rate and drop record (6th permutation)\n",
    "\n",
    "data_12 = data.copy()\n",
    "data_12['win_rate_diff'] = 0\n",
    "# data_12['f1_win_rate'] = 0\n",
    "# data_12['f2_win_rate'] = 0\n",
    "\n",
    "for index, row in data_12.iterrows():\n",
    "\n",
    "    f1_total_fights = row['f1_wins'] + row['f1_losses'] + row['f1_draws']\n",
    "    f1_win_rate = row['f1_wins'] / f1_total_fights\n",
    "\n",
    "    f2_total_fights = row['f2_wins'] + row['f2_losses'] + row['f2_draws']\n",
    "    f2_win_rate = row['f2_wins'] / f2_total_fights\n",
    "\n",
    "    row['win_rate_diff'] = f1_win_rate - f2_win_rate\n",
    "\n",
    "    # row['f1_win_rate'] = f1_win_rate\n",
    "    # row['f2_win_rate'] = f2_win_rate\n",
    "\n",
    "    data_12.loc[index] = row\n",
    "\n",
    "\n",
    "# data_12 = data.drop(['f1_wins', 'f2_wins', 'f1_losses', 'f2_losses', 'f1_draws', 'f2_draws'], axis=1)\n",
    "data_12.to_csv('data/permutations/add_win_rate_diff_14.csv', index=False)"
   ]
  },
  {
   "cell_type": "code",
   "execution_count": 102,
   "metadata": {},
   "outputs": [],
   "source": [
    "# All static stats & f1 - f2 rates\n",
    "\n",
    "data_13 = data.copy()\n",
    "\n",
    "# data_13['slpm_diff'] = data_13['f1_slpm'] - data_13['f2_slpm']\n",
    "# data_13['sapm_diff'] = data_13['f1_sapm'] - data_13['f2_sapm']\n",
    "# data_13['stk_atk_diff'] = data_13['f1_stk_acc'] - data_13['f2_stk_acc']\n",
    "# data_13['stk_def_diff'] = data_13['f1_stk_def'] - data_13['f2_stk_def']\n",
    "data_13['f1_win_rate'] = 0\n",
    "data_13['f2_win_rate'] = 0\n",
    "\n",
    "for index, row in data_13.iterrows():\n",
    "\n",
    "    f1_total_fights = row['f1_wins'] + row['f1_losses'] + row['f1_draws']\n",
    "    f1_win_rate = row['f1_wins'] / f1_total_fights\n",
    "\n",
    "    f2_total_fights = row['f2_wins'] + row['f2_losses'] + row['f2_draws']\n",
    "    f2_win_rate = row['f2_wins'] / f2_total_fights\n",
    "\n",
    "    # row['win_rate_diff'] = f1_win_rate - f2_win_rate\n",
    "\n",
    "    row['f1_win_rate'] = f1_win_rate\n",
    "    row['f2_win_rate'] = f2_win_rate\n",
    "\n",
    "    data_13.loc[index] = row\n",
    "\n",
    "data_13 = data_13.drop(['f1_stk_acc', 'f2_stk_acc', 'f1_stk_def', 'f2_stk_def', 'f1_td_acc', 'f2_td_acc', 'f1_td_def', 'f2_td_def'], axis=1)\n",
    "# data_13 = data.drop(['f1_slpm', 'f2_slpm', 'f1_sapm', 'f2_sapm', 'f1_td_avg', 'f2_td_avg', 'f1_sub_avg', 'f2_sub_avg'], axis=1)\n",
    "data_13.to_csv('data/permutations/minus_percentages_add_win_rate_17.csv', index=False)"
   ]
  }
 ],
 "metadata": {
  "kernelspec": {
   "display_name": "Python 3",
   "language": "python",
   "name": "python3"
  },
  "language_info": {
   "codemirror_mode": {
    "name": "ipython",
    "version": 3
   },
   "file_extension": ".py",
   "mimetype": "text/x-python",
   "name": "python",
   "nbconvert_exporter": "python",
   "pygments_lexer": "ipython3",
   "version": "3.10.10"
  },
  "orig_nbformat": 4
 },
 "nbformat": 4,
 "nbformat_minor": 2
}
