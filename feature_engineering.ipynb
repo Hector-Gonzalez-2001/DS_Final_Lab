{
 "cells": [
  {
   "cell_type": "code",
   "execution_count": 12,
   "metadata": {},
   "outputs": [],
   "source": [
    "# Import our libraries\n",
    "import pandas as pd\n"
   ]
  },
  {
   "cell_type": "code",
   "execution_count": 13,
   "metadata": {},
   "outputs": [
    {
     "name": "stdout",
     "output_type": "stream",
     "text": [
      "Index(['weight_class', 'f1_reach', 'f1_sapm', 'f1_slpm', 'f1_stance',\n",
      "       'f1_stk_acc', 'f1_stk_def', 'f1_sub_avg', 'f1_td_acc', 'f1_td_avg',\n",
      "       'f1_td_def', 'f1_weight', 'f2_reach', 'f2_sapm', 'f2_slpm', 'f2_stance',\n",
      "       'f2_stk_acc', 'f2_stk_def', 'f2_sub_avg', 'f2_td_acc', 'f2_td_avg',\n",
      "       'f2_td_def', 'f2_weight', 'f1_wins', 'f1_losses', 'f1_draws', 'f2_wins',\n",
      "       'f2_losses', 'f2_draws', 'f1_age', 'f2_age', 'f1_height', 'f2_height'],\n",
      "      dtype='object')\n"
     ]
    }
   ],
   "source": [
    "# Load in our processed data\n",
    "data = pd.read_csv(\"data/processed/processed_fights.csv\")\n",
    "print(data.columns)"
   ]
  },
  {
   "cell_type": "code",
   "execution_count": 11,
   "metadata": {},
   "outputs": [],
   "source": [
    "# Taking our weight & draws (2nd permutation)\n",
    "data_2 = data.drop(['weight_class', 'f1_weight', 'f1_draws', 'f2_weight', 'f2_draws'], axis=1)\n",
    "data_2.to_csv('data/permutations/drop_weights_draws_2')"
   ]
  },
  {
   "cell_type": "code",
   "execution_count": 14,
   "metadata": {},
   "outputs": [],
   "source": [
    "# Taking out %'s (3rd permutation)\n",
    "data_3 = data.drop(['f1_stk_acc', 'f2_stk_acc', 'f1_stk_def', 'f2_stk_def', 'f1_td_acc', 'f2_td_acc', 'f1_td_def', 'f2_td_def'], axis=1)\n",
    "data_3.to_csv('data/permutations/drop_percentages_3')"
   ]
  }
 ],
 "metadata": {
  "kernelspec": {
   "display_name": "Python 3",
   "language": "python",
   "name": "python3"
  },
  "language_info": {
   "codemirror_mode": {
    "name": "ipython",
    "version": 3
   },
   "file_extension": ".py",
   "mimetype": "text/x-python",
   "name": "python",
   "nbconvert_exporter": "python",
   "pygments_lexer": "ipython3",
   "version": "3.10.10"
  },
  "orig_nbformat": 4
 },
 "nbformat": 4,
 "nbformat_minor": 2
}
