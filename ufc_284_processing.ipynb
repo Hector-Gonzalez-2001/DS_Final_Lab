{
 "cells": [
  {
   "cell_type": "code",
   "execution_count": 1,
   "metadata": {},
   "outputs": [],
   "source": [
    "# Import our libraries\n",
    "import pandas as pd\n",
    "from datetime import datetime\n",
    "import numpy as np\n",
    "import pickle\n",
    "import csv\n",
    "import warnings\n",
    "warnings.filterwarnings(\"ignore\")"
   ]
  },
  {
   "cell_type": "code",
   "execution_count": 2,
   "metadata": {},
   "outputs": [],
   "source": [
    "# Load in our data\n",
    "ufc_284 = pd.read_csv('Fight_predicting_table.csv')"
   ]
  },
  {
   "cell_type": "code",
   "execution_count": 3,
   "metadata": {},
   "outputs": [],
   "source": [
    "# Hot one encode our categorical data\n",
    "\n",
    "weight_class_dict = {'Lightweight': 6, 'Welterweight': 10, 'Middleweight': 7, \"Women's Strawweight\": 14, 'Flyweight': 3, \n",
    "                     \"Women's Flyweight\": 13, 'Heavyweight': 4, 'Bantamweight': 0, 'Featherweight': 2, 'Light Heavyweight': 5, \n",
    "                     \"Women's Bantamweight\": 11, \"Women's Featherweight\": 12, 'Open Weight': 8, 'Super Heavyweight': 9, 'Catch Weight': 1}\n",
    "\n",
    "ufc_284['weight_class'] = ufc_284['weight_class'].map(weight_class_dict)\n",
    "\n",
    "stance_dict = {'Southpaw': 4, 'Orthodox': 2, 'Switch': 5, 'None': 0, 'Sideways': 3, 'Open Stance': 1}\n",
    "ufc_284['f1_stance'] = ufc_284['f1_stance'].map(stance_dict)\n",
    "ufc_284['f2_stance'] = ufc_284['f2_stance'].map(stance_dict)\n"
   ]
  },
  {
   "cell_type": "code",
   "execution_count": 17,
   "metadata": {},
   "outputs": [],
   "source": [
    "# Grab our labels\n",
    "ufc_284_labels = pd.DataFrame({'Labels': ufc_284['winner']})"
   ]
  },
  {
   "cell_type": "code",
   "execution_count": 5,
   "metadata": {},
   "outputs": [],
   "source": [
    "# Load the scaler from a file\n",
    "with open('scaler.pkl', 'rb') as f:\n",
    "    scaler = pickle.load(f)\n",
    "\n",
    "# Standardize non-categorical features\n",
    "features_to_scale = ['f1_reach', 'f1_sapm', 'f1_slpm',\n",
    "       'f1_stk_acc', 'f1_stk_def', 'f1_sub_avg', 'f1_td_acc', 'f1_td_avg',\n",
    "       'f1_td_def', 'f1_weight', 'f2_reach', 'f2_sapm', 'f2_slpm',\n",
    "       'f2_stk_acc', 'f2_stk_def', 'f2_sub_avg', 'f2_td_acc', 'f2_td_avg',\n",
    "       'f2_td_def', 'f2_weight', 'f1_wins', 'f1_losses', 'f1_draws', 'f2_wins',\n",
    "       'f2_losses', 'f2_draws', 'f1_age', 'f2_age', 'f1_height', 'f2_height']\n",
    "\n",
    "ufc_284[features_to_scale] = scaler.transform(ufc_284[features_to_scale])"
   ]
  },
  {
   "cell_type": "code",
   "execution_count": 18,
   "metadata": {},
   "outputs": [
    {
     "name": "stdout",
     "output_type": "stream",
     "text": [
      "    weight_class  f1_reach  f1_sapm  f1_slpm  f1_stance  f1_stk_acc  \\\n",
      "0              6        70     1.27     2.35          4          59   \n",
      "1              2        71     4.03     4.78          2          46   \n",
      "2             10        73     4.29     8.27          5          49   \n",
      "3              4        74     5.95     5.09          4          54   \n",
      "4              5        79     2.49     2.96          2          61   \n",
      "5              2        73     3.13     2.96          2          43   \n",
      "6              3        66     8.99     6.57          5          37   \n",
      "7              6        74     4.28     4.13          2          45   \n",
      "8              2        68     2.27     4.54          5          69   \n",
      "9             14        61     2.58     4.14          2          58   \n",
      "10             2        72     5.51     5.24          2          40   \n",
      "11             6        68     3.07     3.17          2          39   \n",
      "\n",
      "    f1_stk_def  f1_sub_avg  f1_td_acc  f1_td_avg  ...  f1_wins  f1_losses  \\\n",
      "0           61         1.1         62       3.24  ...       23          1   \n",
      "1           53         0.8         28       0.79  ...       15          3   \n",
      "2           68         0.6          0       0.00  ...       13          2   \n",
      "3           49         0.0          0       0.00  ...        5          3   \n",
      "4           54         1.0         36       0.97  ...        9          3   \n",
      "5           59         0.5          0       0.00  ...       10          1   \n",
      "6           52         0.0          0       0.00  ...       13          6   \n",
      "7           54         0.2         35       2.62  ...       15          5   \n",
      "8           58         0.0         72       4.07  ...       10          2   \n",
      "9           52         0.2         50       2.04  ...        7          3   \n",
      "10          52         0.0         18       0.63  ...       13          6   \n",
      "11          63         0.0         39       2.13  ...       20          5   \n",
      "\n",
      "    f1_draws  f2_wins  f2_losses  f2_draws  f1_age  f2_age  f1_height  \\\n",
      "0          0       25          1         0      31      34         70   \n",
      "1          0       18          2         0      30      38         71   \n",
      "2          0       16          4         0      26      32         71   \n",
      "3          0       13          7         0      29      37         72   \n",
      "4          0       13          5         0      31      29         75   \n",
      "5          0        7          1         0      28      31         70   \n",
      "6          0        7          2         0      33      27         66   \n",
      "7          0       11          0         0      28      20         72   \n",
      "8          0       12          4         0      30      31         67   \n",
      "9          0        6          2         0      27      30         61   \n",
      "10         0        7          0         1      29      32         68   \n",
      "11         1       13          3         0      32      25         68   \n",
      "\n",
      "    f2_height  \n",
      "0          66  \n",
      "1          66  \n",
      "2          75  \n",
      "3          72  \n",
      "4          75  \n",
      "5          69  \n",
      "6          65  \n",
      "7          70  \n",
      "8          66  \n",
      "9          63  \n",
      "10         68  \n",
      "11         72  \n",
      "\n",
      "[12 rows x 33 columns]\n"
     ]
    }
   ],
   "source": [
    "ufc_284 = ufc_284.drop(['winner'], axis=1)\n",
    "print(ufc_284)"
   ]
  },
  {
   "cell_type": "code",
   "execution_count": 6,
   "metadata": {},
   "outputs": [
    {
     "name": "stdout",
     "output_type": "stream",
     "text": [
      "The model predicts 0\n"
     ]
    }
   ],
   "source": [
    "# Open a model and see the predictions\n",
    "with open('models/voteClass.pkl', 'rb') as f:\n",
    "    gbc_gs = pickle.load(f)\n",
    "\n",
    "correct = 0\n",
    "\n",
    "prediction = gbc_gs.predict(ufc_284.iloc[0].to_frame().T)\n",
    "# prediction_probability = gbc_gs.predict_proba(ufc_284.iloc[0].to_frame().T)\n",
    "print(\"The model predicts\", int(prediction))\n",
    "\n",
    "# for i in range(0, 12):\n",
    "#     prediction = gbc_gs.predict(ufc_284.iloc[i].to_frame().T)\n",
    "#     prediction_probability = gbc_gs.predict_proba(ufc_284.iloc[i].to_frame().T)\n",
    "#     print(\"The model predicts\", int(prediction))\n",
    "#     print(\"The true label is\", ufc_284_labels.iloc[i][0])\n",
    "\n",
    "#     if int(prediction) == ufc_284_labels.iloc[i][0]:\n",
    "#         correct += 1\n",
    "\n",
    "# print(\"The accuracy on UFC 284 fights is:\", float(correct/12))"
   ]
  }
 ],
 "metadata": {
  "kernelspec": {
   "display_name": "Python 3",
   "language": "python",
   "name": "python3"
  },
  "language_info": {
   "codemirror_mode": {
    "name": "ipython",
    "version": 3
   },
   "file_extension": ".py",
   "mimetype": "text/x-python",
   "name": "python",
   "nbconvert_exporter": "python",
   "pygments_lexer": "ipython3",
   "version": "3.8.0"
  },
  "orig_nbformat": 4
 },
 "nbformat": 4,
 "nbformat_minor": 2
}
