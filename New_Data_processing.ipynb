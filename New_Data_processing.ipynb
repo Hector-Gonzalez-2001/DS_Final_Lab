{
 "cells": [
  {
   "cell_type": "code",
   "execution_count": 13,
   "metadata": {},
   "outputs": [],
   "source": [
    "# Import our libraries\n",
    "import pandas as pd\n",
    "from datetime import datetime\n",
    "import numpy as np\n",
    "import pickle\n",
    "import csv\n",
    "import warnings\n",
    "warnings.filterwarnings(\"ignore\")"
   ]
  },
  {
   "cell_type": "code",
   "execution_count": 14,
   "metadata": {},
   "outputs": [],
   "source": [
    "# Load in our data\n",
    "ufc_284 = pd.read_csv('processed_fights_ufc_284.csv')"
   ]
  },
  {
   "cell_type": "code",
   "execution_count": 15,
   "metadata": {},
   "outputs": [],
   "source": [
    "# Hot one encode our categorical data\n",
    "\n",
    "weight_class_dict = {'Lightweight': 6, 'Welterweight': 10, 'Middleweight': 7, \"Women's Strawweight\": 14, 'Flyweight': 3, \n",
    "                     \"Women's Flyweight\": 13, 'Heavyweight': 4, 'Bantamweight': 0, 'Featherweight': 2, 'Light Heavyweight': 5, \n",
    "                     \"Women's Bantamweight\": 11, \"Women's Featherweight\": 12, 'Open Weight': 8, 'Super Heavyweight': 9, 'Catch Weight': 1}\n",
    "\n",
    "ufc_284['weight_class'] = ufc_284['weight_class'].map(weight_class_dict)\n",
    "\n",
    "stance_dict = {'Southpaw': 4, 'Orthodox': 2, 'Switch': 5, 'None': 0, 'Sideways': 3, 'Open Stance': 1}\n",
    "ufc_284['f1_stance'] = ufc_284['f1_stance'].map(stance_dict)\n",
    "ufc_284['f2_stance'] = ufc_284['f2_stance'].map(stance_dict)\n"
   ]
  },
  {
   "cell_type": "code",
   "execution_count": 16,
   "metadata": {},
   "outputs": [],
   "source": [
    "# Grab our labels\n",
    "ufc_284_labels = pd.DataFrame({'Labels': ufc_284['winner']})"
   ]
  },
  {
   "cell_type": "code",
   "execution_count": 17,
   "metadata": {},
   "outputs": [],
   "source": [
    "# Load the scaler from a file\n",
    "with open('scaler.pkl', 'rb') as f:\n",
    "    scaler = pickle.load(f)\n",
    "\n",
    "# Standardize non-categorical features\n",
    "features_to_scale = ['f1_reach', 'f1_sapm', 'f1_slpm',\n",
    "       'f1_stk_acc', 'f1_stk_def', 'f1_sub_avg', 'f1_td_acc', 'f1_td_avg',\n",
    "       'f1_td_def', 'f1_weight', 'f2_reach', 'f2_sapm', 'f2_slpm',\n",
    "       'f2_stk_acc', 'f2_stk_def', 'f2_sub_avg', 'f2_td_acc', 'f2_td_avg',\n",
    "       'f2_td_def', 'f2_weight', 'f1_wins', 'f1_losses', 'f1_draws', 'f2_wins',\n",
    "       'f2_losses', 'f2_draws', 'f1_age', 'f2_age', 'f1_height', 'f2_height']\n",
    "\n",
    "ufc_284[features_to_scale] = scaler.transform(ufc_284[features_to_scale])"
   ]
  },
  {
   "cell_type": "code",
   "execution_count": 21,
   "metadata": {},
   "outputs": [
    {
     "name": "stdout",
     "output_type": "stream",
     "text": [
      "    weight_class  f1_reach   f1_sapm   f1_slpm  f1_stance  f1_stk_acc  \\\n",
      "0              6 -0.526395 -1.472495 -0.596094          4    1.732491   \n",
      "1              2 -0.292091  0.741362  1.466214          2    0.372368   \n",
      "2             10  0.176515  0.949914  4.428130          5    0.686243   \n",
      "3              4  0.410819  2.281436  1.729307          4    1.209367   \n",
      "4              5  1.582335 -0.493906 -0.078395          2    1.941741   \n",
      "5              2  0.176515  0.019452 -0.078395          2    0.058493   \n",
      "6              3 -1.463608  4.719887  2.985363          5   -0.569256   \n",
      "7              6  0.410819  0.941892  0.914568          2    0.267743   \n",
      "8              2 -0.995001 -0.670373  1.262529          5    2.778739   \n",
      "9             14 -2.635124 -0.421715  0.923055          2    1.627866   \n",
      "10             2 -0.057788  1.928502  1.856610          2   -0.255381   \n",
      "11             6 -0.995001 -0.028675  0.099829          2   -0.360006   \n",
      "\n",
      "    f1_stk_def  f1_sub_avg  f1_td_acc  f1_td_avg  ...   f1_wins  f1_losses  \\\n",
      "0     0.593525    0.559780   1.128888   1.319445  ...  0.492371  -1.524356   \n",
      "1    -0.176603    0.169559  -0.525616  -0.642149  ... -0.343989  -1.043309   \n",
      "2     1.267387   -0.090589  -1.888149  -1.274663  ... -0.553079  -1.283832   \n",
      "3    -0.561668   -0.871033  -1.888149  -1.274663  ... -1.389439  -1.043309   \n",
      "4    -0.080337    0.429706  -0.136321  -0.498032  ... -0.971259  -1.043309   \n",
      "5     0.400993   -0.220663  -1.888149  -1.274663  ... -0.866714  -1.524356   \n",
      "6    -0.272869   -0.871033  -1.888149  -1.274663  ... -0.553079  -0.321738   \n",
      "7    -0.080337   -0.610885  -0.184983   0.823041  ... -0.343989  -0.562261   \n",
      "8     0.304727   -0.871033   1.615507   1.983985  ... -0.866714  -1.283832   \n",
      "9    -0.272869   -0.610885   0.544945   0.358664  ... -1.180349  -1.043309   \n",
      "10   -0.272869   -0.871033  -1.012235  -0.770253  ... -0.553079  -0.321738   \n",
      "11    0.786057   -0.871033   0.009665   0.430723  ...  0.178736  -0.562261   \n",
      "\n",
      "    f1_draws   f2_wins  f2_losses  f2_draws    f1_age    f2_age  f1_height  \\\n",
      "0  -0.369111  0.821006  -1.347106 -0.375542  0.280593  0.779722  -0.149627   \n",
      "1  -0.369111  0.056838  -1.115697 -0.375542  0.087343  1.393825   0.118350   \n",
      "2  -0.369111 -0.161496  -0.652880 -0.375542 -0.685656  0.472670   0.118350   \n",
      "3  -0.369111 -0.488996   0.041347 -0.375542 -0.105907  1.240299   0.386328   \n",
      "4  -0.369111 -0.488996  -0.421471 -0.375542  0.280593  0.012093   1.190260   \n",
      "5  -0.369111 -1.143997  -1.347106 -0.375542 -0.299157  0.319145  -0.149627   \n",
      "6  -0.369111 -1.143997  -1.115697 -0.375542  0.667092 -0.294958  -1.221537   \n",
      "7  -0.369111 -0.707330  -1.578515 -0.375542 -0.299157 -1.369638   0.386328   \n",
      "8  -0.369111 -0.598163  -0.652880 -0.375542  0.087343  0.319145  -0.953559   \n",
      "9  -0.369111 -1.253164  -1.115697 -0.375542 -0.492406  0.165619  -2.561424   \n",
      "10 -0.369111 -1.143997  -1.578515  1.002219 -0.105907  0.472670  -0.685582   \n",
      "11  0.945670 -0.488996  -0.884288 -0.375542  0.473843 -0.602010  -0.685582   \n",
      "\n",
      "    f2_height  \n",
      "0   -0.965735  \n",
      "1   -0.965735  \n",
      "2    0.992488  \n",
      "3    0.339747  \n",
      "4    0.992488  \n",
      "5   -0.312994  \n",
      "6   -1.183315  \n",
      "7   -0.095413  \n",
      "8   -0.965735  \n",
      "9   -1.618475  \n",
      "10  -0.530574  \n",
      "11   0.339747  \n",
      "\n",
      "[12 rows x 33 columns]\n"
     ]
    }
   ],
   "source": [
    "ufc_284 = ufc_284.drop(['winner'], axis=1)\n",
    "print(ufc_284)"
   ]
  },
  {
   "cell_type": "code",
   "execution_count": 37,
   "metadata": {},
   "outputs": [
    {
     "name": "stdout",
     "output_type": "stream",
     "text": [
      "The model predicts 1\n",
      "The true label is 0\n",
      "The model predicts 1\n",
      "The true label is 0\n",
      "The model predicts 1\n",
      "The true label is 0\n",
      "The model predicts 1\n",
      "The true label is 0\n",
      "The model predicts 1\n",
      "The true label is 1\n",
      "The model predicts 1\n",
      "The true label is 0\n",
      "The model predicts 1\n",
      "The true label is 1\n",
      "The model predicts 0\n",
      "The true label is 0\n",
      "The model predicts 0\n",
      "The true label is 0\n",
      "The model predicts 1\n",
      "The true label is 0\n",
      "The model predicts 1\n",
      "The true label is 1\n",
      "The model predicts 1\n",
      "The true label is 1\n",
      "The accuracy on UFC 284 fights is: 0.5\n"
     ]
    }
   ],
   "source": [
    "# Open a model and see the predictions\n",
    "with open('Logistic Regression.pkl', 'rb') as f:\n",
    "    gbc_gs = pickle.load(f)\n",
    "\n",
    "correct = 0\n",
    "\n",
    "for i in range(0, 12):\n",
    "    prediction = gbc_gs.predict(ufc_284.iloc[i].to_frame().T)\n",
    "    prediction_probability = gbc_gs.predict_proba(ufc_284.iloc[i].to_frame().T)\n",
    "    print(\"The model predicts\", int(prediction))\n",
    "    print(\"The true label is\", ufc_284_labels.iloc[i][0])\n",
    "\n",
    "    if int(prediction) == ufc_284_labels.iloc[i][0]:\n",
    "        correct += 1\n",
    "\n",
    "print(\"The accuracy on UFC 284 fights is:\", float(correct/12))"
   ]
  }
 ],
 "metadata": {
  "kernelspec": {
   "display_name": "Python 3",
   "language": "python",
   "name": "python3"
  },
  "language_info": {
   "codemirror_mode": {
    "name": "ipython",
    "version": 3
   },
   "file_extension": ".py",
   "mimetype": "text/x-python",
   "name": "python",
   "nbconvert_exporter": "python",
   "pygments_lexer": "ipython3",
   "version": "3.10.10"
  },
  "orig_nbformat": 4
 },
 "nbformat": 4,
 "nbformat_minor": 2
}
